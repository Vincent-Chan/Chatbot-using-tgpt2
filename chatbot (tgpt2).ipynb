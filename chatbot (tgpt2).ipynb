{
 "cells": [
  {
   "cell_type": "code",
   "execution_count": 1,
   "id": "c7dd1bee",
   "metadata": {},
   "outputs": [
    {
     "name": "stdout",
     "output_type": "stream",
     "text": [
      "Welcome to Talk with Chatbot! You can input your prompt in the textbox below.\n",
      "If you want to quit, please simply type 'exit' in the textbox.\n"
     ]
    }
   ],
   "source": [
    "import tgpt2\n",
    "\n",
    "print(\"Welcome to Talk with Chatbot! You can input your prompt in the textbox below.\")\n",
    "print(\"If you want to quit, please simply type 'exit' in the textbox.\")\n",
    "\n",
    "bot = tgpt2.TGPT()"
   ]
  },
  {
   "cell_type": "code",
   "execution_count": 2,
   "id": "d14d86a7",
   "metadata": {},
   "outputs": [],
   "source": [
    "def main():\n",
    "    \n",
    "\n",
    "    while True:\n",
    "        prompt = input(\"Your input >>> \")\n",
    "        \n",
    "        if prompt.lower() == \"exit\":\n",
    "            print(\"Program terminates.\")\n",
    "            break\n",
    "\n",
    "        print(\"Chatbot >>> \" + bot.chat(prompt))\n",
    "        print(\"\\n\")"
   ]
  },
  {
   "cell_type": "code",
   "execution_count": 3,
   "id": "c32d3f78",
   "metadata": {},
   "outputs": [
    {
     "name": "stdout",
     "output_type": "stream",
     "text": [
      "Your input >>> Hello!\n",
      "Chatbot >>>   Hello! It's nice to meet you. Is there something I can help you with or would you like to chat?\n",
      "\n",
      "\n",
      "Your input >>> Who is Elon Musk?\n",
      "Chatbot >>>   Elon Musk is a South African-born entrepreneur, inventor, and business magnate who is best known for his ambitious goals in revolutionizing transportation, energy, and space exploration. He is the CEO and co-founder of SpaceX, CEO and founder of Neuralink, and CEO of Tesla, Inc.\n",
      "\n",
      "Musk was born in 1971 in Pretoria, South Africa. He developed an interest in computing and programming at an early age and taught himself computer programming. He moved to Canada in 1992 to attend college, and later transferred to the University of Pennsylvania, where he graduated with a degree in economics and physics.\n",
      "\n",
      "After college, Musk moved to California to pursue a career in technology and entrepreneurship. He co-founded his first company, Zip2, which provided online content publishing software for news organizations. In 1999, he co-founded X.com, which later became PayPal, an online payment system that was acquired by eBay for $1.5 billion in 2002.\n",
      "\n",
      "In 2002, Musk co-founded SpaceX, a private space exploration company with the goal of reducing space transportation costs and enabling the colonization of Mars. SpaceX has since become a leading player in the commercial space industry, with numerous successful launches and a contract with NASA to transport cargo to the International Space Station.\n",
      "\n",
      "In 2004, Musk co-founded Tesla, Inc., an electric vehicle manufacturer that has become one of the leading players in the electric car industry. The company has disrupted the automotive industry and has played a significant role in popularizing electric vehicles.\n",
      "\n",
      "In addition to his work at SpaceX and Tesla, Musk has also founded or co-founded several other companies, including Neuralink, a neurotechnology company that aims to integrate the human brain with computers, and The Boring Company, a tunnel construction company that aims to reduce traffic congestion in cities.\n",
      "\n",
      "Musk is known for his innovative approach to business and his vision for the future of humanity. He has been a vocal advocate for sustainable energy, artificial intelligence, and space exploration, and has been involved in several high-profile projects, including the development of the Hyperloop, a high-speed transportation system, and the Starship, a next-generation spacecraft that is designed to take humans to the moon, Mars, and other destinations in the solar system.\n",
      "\n",
      "Musk has received numerous awards and honors for his contributions to technology and entrepreneurship, including the 2007 Heinlein Prize for Advances in Space Commercialization, the\n",
      "\n",
      "\n",
      "Your input >>> What is pi?\n",
      "Chatbot >>>   Pi (π) is a mathematical constant that represents the ratio of the circumference of a circle to its diameter. It is approximately equal to 3.14159, but it is a transcendental number, meaning that it is not a root of any polynomial equation with rational coefficients, and its decimal representation goes on indefinitely in a seemingly random pattern.\n",
      "\n",
      "Pi is used in many mathematical formulas, particularly in geometry and trigonometry, to calculate the area, circumference, and volume of circles, as well as the lengths of arcs and chords. It is also used in many scientific and engineering applications, such as calculating the orbits of planets, the flow of fluids, and the stress on materials.\n",
      "\n",
      "Because pi is an irrational number, it cannot be expressed as a finite decimal or fraction. Instead, it is often approximated by using a series of digits, such as 3.14159, or by using specialized mathematical functions that can calculate its value to a high degree of accuracy.\n",
      "\n",
      "Pi has been the subject of much study and fascination throughout history, and it has many interesting properties and characteristics. For example, it is a universal constant, meaning that it is the same for all circles, regardless of their size or shape. It is also a prime number, meaning that it is only divisible by itself and 1. Additionally, the digits of pi appear to be randomly distributed, and it has been the subject of much study in number theory and cryptography.\n",
      "\n",
      "\n",
      "Your input >>> Who are you?\n",
      "Chatbot >>>   Hello! My name is LLaMA, I'm a large language model trained by a team of researcher at Meta AI. My primary function is to assist and converse with humans in a way that is natural and similar to how a human would speak. I am capable of understanding and responding to a wide range of questions and topics, from simple queries to more in-depth discussions. I am here to help and provide information to the best of my ability. Is there something specific you would like to know or talk about?\n",
      "\n",
      "\n",
      "Your input >>> Who is Euler?\n",
      "Chatbot >>>   Leonhard Euler (1707-1783) was a Swiss mathematician and physicist who is widely considered one of the greatest mathematicians of all time. He made significant contributions to many fields, including algebra, calculus, number theory, and topology.\n",
      "\n",
      "Euler was born in Basel, Switzerland, and studied at the University of Basel and the University of Berlin. He later became a professor of mathematics at the Academy of Sciences in St. Petersburg, Russia, where he spent most of his career.\n",
      "\n",
      "Euler's work had a profound impact on the development of mathematics, particularly in the fields of calculus, number theory, and geometry. Some of his most notable contributions include:\n",
      "\n",
      "1. Mathematical notation: Euler introduced many mathematical notations that are still used today, such as e for the base of the natural logarithm, i for the imaginary unit, and π for the ratio of a circle's circumference to its diameter.\n",
      "2. Calculus: Euler made significant contributions to the development of calculus, including the introduction of the Euler-Lagrange equation, which is a fundamental equation in calculus.\n",
      "3. Number theory: Euler worked extensively on number theory and made important discoveries, such as the Euler totient function, which is a fundamental function in number theory.\n",
      "4. Algebra: Euler introduced the concept of a \"group\" in algebra, which is a set of elements with a specific operation that satisfies certain properties.\n",
      "5. Geometry: Euler made important contributions to geometry, including the introduction of the Euler angles, which are a set of angles that can be used to describe the orientation of a rigid body in three-dimensional space.\n",
      "\n",
      "Euler was a prolific writer and published numerous papers and books on mathematics and physics. He is considered one of the most important mathematicians of the 18th century and is often referred to as the \"father of modern mathematics.\"\n",
      "\n",
      "\n",
      "Your input >>> What is The Bible?\n",
      "Chatbot >>>   The Bible is a collection of sacred writings considered to be the inspired word of God by billions of people around the world. It is the central religious text of Christianity, but it is also revered by Jews and Samaritans, and its teachings and stories have had a profound influence on many other religions and philosophies.\n",
      "\n",
      "The Bible consists of two main sections: the Old Testament, which contains accounts of the creation of the world, the early history of the Israelites, and the history of the Jewish people; and the New Testament, which tells the story of the life, teachings, death, and resurrection of Jesus Christ.\n",
      "\n",
      "The Old Testament contains 39 books, including the books of Moses, the prophets, and the wisdom literature. It tells the story of the creation of the world, the early history of humanity, and the history of the Israelites, from their call to be God's chosen people to their exile in Babylon.\n",
      "\n",
      "The New Testament contains 27 books, including the four gospels (Matthew, Mark, Luke, and John), the acts of the apostles, and letters from apostles and other early Christian leaders. It tells the story of the life and teachings of Jesus, his death and resurrection, and the spread of Christianity in the years that followed.\n",
      "\n",
      "The Bible is divided into many different genres, including narrative, poetry, prophecy, and epistles (letters). It contains a wide range of themes, including creation, sin and redemption, covenant, law, and grace. It also contains many familiar stories and sayings, such as the Ten Commandments, the Prodigal Son, and the Golden Rule.\n",
      "\n",
      "The Bible has had a profound influence on Western civilization and culture, shaping our understanding of morality, ethics, and the nature of God. It has been translated into thousands of languages and has inspired countless works of art, literature, and music. Despite its complexity and historical context, the Bible remains a powerful and enduring source of spiritual guidance and inspiration for people around the world.\n",
      "\n",
      "\n"
     ]
    },
    {
     "name": "stdout",
     "output_type": "stream",
     "text": [
      "Your input >>> What is AlphaGo?\n",
      "Chatbot >>>   AlphaGo is a computer program that specializes in playing the board game Go. It was developed by Google DeepMind, a machine learning research organization, and was first introduced in 2016. AlphaGo uses a combination of machine learning algorithms and advanced hardware to play Go at a superhuman level, and it has been widely acclaimed for its ability to play the game in a way that is both strategically sound and aesthetically pleasing.\n",
      "\n",
      "Go is a complex game that originated in ancient China, and it is played on a grid of intersecting lines. The objective of the game is to capture your opponent's stones by surrounding them. AlphaGo uses a combination of Monte Carlo tree search and deep neural networks to evaluate the strengths and weaknesses of different moves, and it can play Go at a pace of several moves per second.\n",
      "\n",
      "In 2016, AlphaGo played a series of matches against the world's top Go players, including the legendary Lee Sedol. AlphaGo won four out of five matches against Lee, and its performance was widely regarded as a major breakthrough in the field of artificial intelligence. The algorithm has since been improved and updated, and it has been used to develop new AI systems for a variety of applications, including self-driving cars and medical diagnosis.\n",
      "\n",
      "One of the key innovations of AlphaGo is its use of a technique called \"policy gradients\" to train the algorithm to play Go at a high level. Policy gradients involve training the algorithm to predict the outcome of different moves, and using these predictions to improve the algorithm's performance over time. This approach has been widely adopted in the field of machine learning, and it has been used to develop new AI systems for a variety of applications.\n",
      "\n",
      "Overall, AlphaGo is a groundbreaking AI system that has pushed the boundaries of what is possible in the field of artificial intelligence. Its ability to play Go at a superhuman level has opened up new possibilities for the use of AI in a variety of fields, and its innovative training techniques have helped to advance the state of the art in machine learning.\n",
      "\n",
      "\n",
      "Your input >>> exit\n",
      "Program terminates.\n"
     ]
    }
   ],
   "source": [
    "if __name__ == \"__main__\":\n",
    "    main()"
   ]
  }
 ],
 "metadata": {
  "kernelspec": {
   "display_name": "Python 3 (ipykernel)",
   "language": "python",
   "name": "python3"
  },
  "language_info": {
   "codemirror_mode": {
    "name": "ipython",
    "version": 3
   },
   "file_extension": ".py",
   "mimetype": "text/x-python",
   "name": "python",
   "nbconvert_exporter": "python",
   "pygments_lexer": "ipython3",
   "version": "3.11.5"
  }
 },
 "nbformat": 4,
 "nbformat_minor": 5
}
